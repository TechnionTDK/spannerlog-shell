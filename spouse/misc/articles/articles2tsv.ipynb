{
 "cells": [
  {
   "cell_type": "code",
   "execution_count": 3,
   "metadata": {
    "collapsed": false
   },
   "outputs": [],
   "source": [
    "import json\n",
    "import re"
   ]
  },
  {
   "cell_type": "code",
   "execution_count": 5,
   "metadata": {
    "collapsed": false
   },
   "outputs": [],
   "source": [
    "with open(\"sample-1M.jsonl\") as json_file, open(\"articles.tsv\", \"w\") as outfile:\n",
    "    for line in json_file:\n",
    "        data = json.loads(line)\n",
    "        \n",
    "        t = str(data['content'].encode('utf-8').decode('ascii', 'ignore'))\n",
    "        t = t.replace('\\n', ' ').replace('\\r', ' ').replace('\\\\n', ' ').replace(\"\\t\", \" \")\n",
    "        t = t.strip()\n",
    "        t = re.sub('\\s+', ' ', t)\n",
    "        outfile.write(data['id'] + \"\\t\" + t + '\\n')\n"
   ]
  },
  {
   "cell_type": "code",
   "execution_count": null,
   "metadata": {
    "collapsed": true
   },
   "outputs": [],
   "source": []
  }
 ],
 "metadata": {
  "kernelspec": {
   "display_name": "Python 2",
   "language": "python",
   "name": "python2"
  },
  "language_info": {
   "codemirror_mode": {
    "name": "ipython",
    "version": 2
   },
   "file_extension": ".py",
   "mimetype": "text/x-python",
   "name": "python",
   "nbconvert_exporter": "python",
   "pygments_lexer": "ipython2",
   "version": "2.7.6"
  }
 },
 "nbformat": 4,
 "nbformat_minor": 0
}
