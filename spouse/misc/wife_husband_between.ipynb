{
 "cells": [
  {
   "cell_type": "code",
   "execution_count": 1,
   "metadata": {
    "collapsed": true
   },
   "outputs": [],
   "source": [
    "import re"
   ]
  },
  {
   "cell_type": "code",
   "execution_count": 18,
   "metadata": {
    "collapsed": false
   },
   "outputs": [
    {
     "name": "stdout",
     "output_type": "stream",
     "text": [
      "The beautiful Zelda is the\n",
      "of Joseph of Germany.\n"
     ]
    }
   ],
   "source": [
    "s = \"The beautiful Zelda is the wife of Joseph of Germany.\"\n",
    "\n",
    "pattern = re.compile(r\"(?P<x>.*) (wife|husband) (?P<y>.*)\")\n",
    "\n",
    "m = pattern.match(s)\n",
    "if m:\n",
    "    print m.group('x')\n",
    "    print m.group('y')\n",
    "else:\n",
    "    print \"no match\""
   ]
  }
 ],
 "metadata": {
  "kernelspec": {
   "display_name": "Python 2",
   "language": "python",
   "name": "python2"
  },
  "language_info": {
   "codemirror_mode": {
    "name": "ipython",
    "version": 2
   },
   "file_extension": ".py",
   "mimetype": "text/x-python",
   "name": "python",
   "nbconvert_exporter": "python",
   "pygments_lexer": "ipython2",
   "version": "2.7.6"
  }
 },
 "nbformat": 4,
 "nbformat_minor": 0
}
