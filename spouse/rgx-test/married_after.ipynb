{
 "cells": [
  {
   "cell_type": "code",
   "execution_count": 1,
   "metadata": {
    "collapsed": false
   },
   "outputs": [],
   "source": [
    "import re"
   ]
  },
  {
   "cell_type": "code",
   "execution_count": 2,
   "metadata": {
    "collapsed": false
   },
   "outputs": [
    {
     "name": "stdout",
     "output_type": "stream",
     "text": [
      "Zelda and Joseph are happily married.\n",
      "Joseph\n"
     ]
    }
   ],
   "source": [
    "\n",
    "s = \"Zelda and Joseph are happily married.\"\n",
    "\n",
    "pattern = re.compile(r\".*(?P<x>\\b\\w+\\b).*are .*\")\n",
    "# r\".* (?P<x>w+).* and .*(?P<y>w+).* married .*\"\n",
    "match = pattern.match(s)\n",
    "\n",
    "if match:\n",
    "    print match.group(0) \n",
    "    print match.group(1) \n",
    "else:\n",
    "    print \"no match\"\n"
   ]
  },
  {
   "cell_type": "code",
   "execution_count": 11,
   "metadata": {
    "collapsed": true
   },
   "outputs": [
    {
     "name": "stdout",
     "output_type": "stream",
     "text": [
      "---\n",
      "Zelda\n",
      "and\n",
      "---\n",
      "Zelda\n",
      "Joseph\n",
      "---\n",
      "Zelda\n",
      "are\n",
      "---\n",
      "Zelda\n",
      "happily\n",
      "---\n",
      "Zelda\n",
      "married\n",
      "---\n",
      "and\n",
      "Joseph\n",
      "---\n",
      "and\n",
      "are\n",
      "---\n",
      "and\n",
      "happily\n",
      "---\n",
      "and\n",
      "married\n",
      "---\n",
      "Joseph\n",
      "are\n",
      "---\n",
      "Joseph\n",
      "happily\n",
      "---\n",
      "Joseph\n",
      "married\n",
      "---\n",
      "are\n",
      "happily\n",
      "---\n",
      "are\n",
      "married\n",
      "---\n",
      "happily\n",
      "married\n"
     ]
    }
   ],
   "source": [
    "\n",
    "s = \"Zelda and Joseph are happily married.\"\n",
    "\n",
    "pattern_1 = re.compile(r\"(?P<x>\\b\\w+\\b)\")\n",
    "pattern_2 = re.compile(r\"(?P<y>\\b\\w+\\b)\")\n",
    "\n",
    "for m1 in re.finditer(pattern_1, s):\n",
    "    for m2 in re.finditer(pattern_2, s):\n",
    "        if m1.start() < m2.start():\n",
    "            print \"---\"\n",
    "            print m1.group('x')\n",
    "            print m2.group('y')\n",
    "\n",
    "\n"
   ]
  },
  {
   "cell_type": "code",
   "execution_count": 21,
   "metadata": {
    "collapsed": false
   },
   "outputs": [
    {
     "name": "stdout",
     "output_type": "stream",
     "text": [
      " from France and \n"
     ]
    }
   ],
   "source": [
    "s = \"Zelda from France and Joseph are happily married.\"\n",
    "\n",
    "pattern = re.compile(r\".*Zelda(?P<x>.*and.*)Joseph.*married.*\")\n",
    "\n",
    "for m in re.finditer(pattern, s):\n",
    "    print m.group('x')\n"
   ]
  },
  {
   "cell_type": "code",
   "execution_count": 23,
   "metadata": {
    "collapsed": false
   },
   "outputs": [
    {
     "name": "stdout",
     "output_type": "stream",
     "text": [
      "---\n",
      "Zelda from France \n",
      " Joseph are happily \n"
     ]
    }
   ],
   "source": [
    "s = \"Zelda from France and Joseph are happily married.\"\n",
    "\n",
    "pattern = re.compile(r\"(?P<x>.*)and(?P<y>.*)married.*\")\n",
    "\n",
    "for m in re.finditer(pattern, s):\n",
    "    print \"---\"\n",
    "    print m.group('x')\n",
    "    print m.group('y')"
   ]
  }
 ],
 "metadata": {
  "kernelspec": {
   "display_name": "Python 2",
   "language": "python",
   "name": "python2"
  },
  "language_info": {
   "codemirror_mode": {
    "name": "ipython",
    "version": 2
   },
   "file_extension": ".py",
   "mimetype": "text/x-python",
   "name": "python",
   "nbconvert_exporter": "python",
   "pygments_lexer": "ipython2",
   "version": "2.7.6"
  }
 },
 "nbformat": 4,
 "nbformat_minor": 0
}
